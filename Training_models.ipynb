{
 "cells": [
  {
   "cell_type": "code",
   "execution_count": 1,
   "id": "d5d6f861-cd0b-499a-b361-d776d36ee405",
   "metadata": {},
   "outputs": [],
   "source": [
    "# Import necessary libraries\n",
    "import pandas as pd\n",
    "import numpy as np\n",
    "from sklearn.metrics.pairwise import cosine_similarity\n",
    "from sklearn.decomposition import TruncatedSVD\n",
    "from scipy.sparse import csr_matrix"
   ]
  },
  {
   "cell_type": "code",
   "execution_count": 2,
   "id": "df91eb81-5a84-4030-98f8-8b159465d63b",
   "metadata": {},
   "outputs": [
    {
     "name": "stdout",
     "output_type": "stream",
     "text": [
      "   userId  movieId  rating  timestamp\n",
      "0     196      242       3  881250949\n",
      "1     186      302       3  891717742\n",
      "2      22      377       1  878887116\n",
      "3     244       51       2  880606923\n",
      "4     166      346       1  886397596\n"
     ]
    }
   ],
   "source": [
    "# Load ratings (userId, movieId, rating, timestamp)\n",
    "ratings = pd.read_csv(\n",
    "    \"ml-100k/u.data\",\n",
    "    sep='\\t',                  # Tab-separated\n",
    "    header=None,               # No header row\n",
    "    names=['userId', 'movieId', 'rating', 'timestamp']  # Assign column names\n",
    ")\n",
    "\n",
    "print(ratings.head())"
   ]
  },
  {
   "cell_type": "code",
   "execution_count": 3,
   "id": "d10c1d8e-7baa-42b3-894c-2d6a04468b50",
   "metadata": {},
   "outputs": [],
   "source": [
    "# Load movies (movieId, title, genres)\n",
    "movies = pd.read_csv(\n",
    "    \"ml-100k/u.item\",\n",
    "    sep='|',                   # Pipe-separated\n",
    "    encoding='latin-1',        # Fixes special chars in titles\n",
    "    header=None,               # No header row\n",
    "    usecols=[0, 1, 2],         # Only keep movieId, title, release date\n",
    "    names=['movieId', 'title', 'release_date']  # Assign column names\n",
    ")"
   ]
  },
  {
   "cell_type": "code",
   "execution_count": 4,
   "id": "3ab5e14b-8752-42ea-92d7-b3d4ead21e35",
   "metadata": {},
   "outputs": [
    {
     "name": "stdout",
     "output_type": "stream",
     "text": [
      "   movieId              title release_date\n",
      "0        1   Toy Story (1995)  01-Jan-1995\n",
      "1        2   GoldenEye (1995)  01-Jan-1995\n",
      "2        3  Four Rooms (1995)  01-Jan-1995\n",
      "3        4  Get Shorty (1995)  01-Jan-1995\n",
      "4        5     Copycat (1995)  01-Jan-1995\n"
     ]
    }
   ],
   "source": [
    "print(movies.head())"
   ]
  },
  {
   "cell_type": "code",
   "execution_count": 5,
   "id": "11e40716-5b6e-4aab-acc5-fe282e933237",
   "metadata": {},
   "outputs": [],
   "source": [
    "movies['title'] = movies['title'].str.replace(r' \\(\\d{4}\\)', '', regex=True)\n",
    "# Example: \"Toy Story (1995)\" → \"Toy Story\""
   ]
  },
  {
   "cell_type": "code",
   "execution_count": 6,
   "id": "c065e526-2f0d-4eae-83de-4e10d3f77610",
   "metadata": {},
   "outputs": [],
   "source": [
    "ratings = ratings.drop(['timestamp'], axis=1)  # We don't need timestamps"
   ]
  },
  {
   "cell_type": "code",
   "execution_count": 7,
   "id": "24a082e8-66d1-4563-9047-096efbb2c768",
   "metadata": {},
   "outputs": [
    {
     "name": "stdout",
     "output_type": "stream",
     "text": [
      "movieId  1     2     3     4     5     6     7     8     9     10    ...  \\\n",
      "userId                                                               ...   \n",
      "1         5.0   3.0   4.0   3.0   3.0   5.0   4.0   1.0   5.0   3.0  ...   \n",
      "2         4.0   0.0   0.0   0.0   0.0   0.0   0.0   0.0   0.0   2.0  ...   \n",
      "3         0.0   0.0   0.0   0.0   0.0   0.0   0.0   0.0   0.0   0.0  ...   \n",
      "4         0.0   0.0   0.0   0.0   0.0   0.0   0.0   0.0   0.0   0.0  ...   \n",
      "5         4.0   3.0   0.0   0.0   0.0   0.0   0.0   0.0   0.0   0.0  ...   \n",
      "\n",
      "movieId  1673  1674  1675  1676  1677  1678  1679  1680  1681  1682  \n",
      "userId                                                               \n",
      "1         0.0   0.0   0.0   0.0   0.0   0.0   0.0   0.0   0.0   0.0  \n",
      "2         0.0   0.0   0.0   0.0   0.0   0.0   0.0   0.0   0.0   0.0  \n",
      "3         0.0   0.0   0.0   0.0   0.0   0.0   0.0   0.0   0.0   0.0  \n",
      "4         0.0   0.0   0.0   0.0   0.0   0.0   0.0   0.0   0.0   0.0  \n",
      "5         0.0   0.0   0.0   0.0   0.0   0.0   0.0   0.0   0.0   0.0  \n",
      "\n",
      "[5 rows x 1682 columns]\n"
     ]
    }
   ],
   "source": [
    "user_item_matrix = ratings.pivot_table(\n",
    "    index='userId',\n",
    "    columns='movieId',\n",
    "    values='rating'\n",
    ").fillna(0)  # Fill missing ratings with 0\n",
    "\n",
    "print(user_item_matrix.head())"
   ]
  },
  {
   "cell_type": "code",
   "execution_count": 8,
   "id": "2c905c1c-6efe-423b-b9c4-7c0439058e82",
   "metadata": {},
   "outputs": [],
   "source": [
    "# Content-Based (Genres)\n",
    "# Note: For ml-100k, genres are in u.item columns 5-24 (binary flags)\n",
    "movies_with_genres = pd.read_csv(\n",
    "    \"ml-100k/u.item\",\n",
    "    sep='|',\n",
    "    encoding='latin-1',\n",
    "    header=None\n",
    ")\n",
    "genres = movies_with_genres.iloc[:, 5:]  # Columns 5-24 are genres\n",
    "content_sim = cosine_similarity(genres)"
   ]
  },
  {
   "cell_type": "code",
   "execution_count": 9,
   "id": "63dd2064-2a7f-48dc-bcc2-80c200af1841",
   "metadata": {},
   "outputs": [],
   "source": [
    "#Collaborative \n",
    "svd = TruncatedSVD(n_components=20)\n",
    "matrix_svd = svd.fit_transform(user_item_matrix)\n",
    "collab_sim = cosine_similarity(matrix_svd)"
   ]
  },
  {
   "cell_type": "code",
   "execution_count": 10,
   "id": "eeb1cfe9-6a3e-4c5f-9aa0-2adb1f1d9e04",
   "metadata": {},
   "outputs": [],
   "source": [
    "import pickle\n",
    "pickle.dump({\n",
    "    'movies': movies,\n",
    "    'content_sim': content_sim,\n",
    "    'collab_sim': collab_sim,\n",
    "    'user_item_matrix': user_item_matrix,\n",
    "    'svd': svd\n",
    "}, open('models.pkl', 'wb'))"
   ]
  },
  {
   "cell_type": "code",
   "execution_count": null,
   "id": "2a1c7915-3b27-4f90-b254-79fc7886bb0f",
   "metadata": {},
   "outputs": [],
   "source": []
  }
 ],
 "metadata": {
  "kernelspec": {
   "display_name": "Python 3 (ipykernel)",
   "language": "python",
   "name": "python3"
  },
  "language_info": {
   "codemirror_mode": {
    "name": "ipython",
    "version": 3
   },
   "file_extension": ".py",
   "mimetype": "text/x-python",
   "name": "python",
   "nbconvert_exporter": "python",
   "pygments_lexer": "ipython3",
   "version": "3.11.5"
  }
 },
 "nbformat": 4,
 "nbformat_minor": 5
}
